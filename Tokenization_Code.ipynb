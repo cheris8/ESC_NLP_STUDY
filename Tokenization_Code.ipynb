{
 "cells": [
  {
   "cell_type": "markdown",
   "metadata": {},
   "source": [
    "# 단어 토큰화 및 품사 태깅 Code"
   ]
  },
  {
   "cell_type": "markdown",
   "metadata": {},
   "source": [
    "## 영어 Code"
   ]
  },
  {
   "cell_type": "markdown",
   "metadata": {},
   "source": [
    "영어의 경우 NLTK를 활용하여 토큰화가 가능합니다. NLTK는 Penn Treebank POS Tags를 기준으로 하여 품사 태깅을 합니다."
   ]
  },
  {
   "cell_type": "code",
   "execution_count": 1,
   "metadata": {},
   "outputs": [
    {
     "name": "stdout",
     "output_type": "stream",
     "text": [
      "['I', 'am', 'actively', 'looking', 'for', 'Ph.D.', 'students', '.', 'and', 'you', 'are', 'a', 'Ph.D.', 'student', '.']\n"
     ]
    }
   ],
   "source": [
    "from nltk.tokenize import word_tokenize\n",
    "text = \"I am actively looking for Ph.D. students. and you are a Ph.D. student.\"\n",
    "x = word_tokenize(text)\n",
    "print(x)"
   ]
  },
  {
   "cell_type": "code",
   "execution_count": 2,
   "metadata": {},
   "outputs": [
    {
     "data": {
      "text/plain": [
       "[('I', 'PRP'),\n",
       " ('am', 'VBP'),\n",
       " ('actively', 'RB'),\n",
       " ('looking', 'VBG'),\n",
       " ('for', 'IN'),\n",
       " ('Ph.D.', 'NNP'),\n",
       " ('students', 'NNS'),\n",
       " ('.', '.'),\n",
       " ('and', 'CC'),\n",
       " ('you', 'PRP'),\n",
       " ('are', 'VBP'),\n",
       " ('a', 'DT'),\n",
       " ('Ph.D.', 'NNP'),\n",
       " ('student', 'NN'),\n",
       " ('.', '.')]"
      ]
     },
     "execution_count": 2,
     "metadata": {},
     "output_type": "execute_result"
    }
   ],
   "source": [
    "from nltk.tag import pos_tag\n",
    "pos_tag(x)"
   ]
  },
  {
   "cell_type": "markdown",
   "metadata": {},
   "source": [
    "**Penn Treebank**\n",
    "\n",
    "|Number|Tag|Description|\n",
    "|------|---|-----------|\n",
    "|1.|CC |Coordinating conjunction|\n",
    "|2.|CD |Cardinal number|\n",
    "|3.|DT |Determiner|\n",
    "|4.|EX |Existential there|\n",
    "|5.|FW |Foreign word|\n",
    "|6.|IN |Preposition or subordinating conjunction|\n",
    "|7.|JJ |Adjective|\n",
    "|8.|JJR|Adjective, comparative|\n",
    "|9.|JJS|Adjective, superlative|\n",
    "|10.|LS|List item marker|\n",
    "|11.|MD|Modal|\n",
    "|12.|NN|Noun, singular or mass|\n",
    "|13.|NNS|Noun, plural|\n",
    "|14.|NNP|Proper noun, singular|\n",
    "|15.|NNPS|Proper noun, plural|\n",
    "|16.|PDT|Predeterminer|\n",
    "|17.|POS|Possessive ending|\n",
    "|18.|PRP|Personal pronoun|\n",
    "|19.|PRP\\\\$|Possessive pronoun|\n",
    "|20.|RB |Adverb|\n",
    "|21.|RBR|Adverb, comparative|\n",
    "|22.|RBS|Adverb, superlative|\n",
    "|23.|RP\t|Particle|\n",
    "|24.|SYM|Symbol|\n",
    "|25.|TO\t|to|\n",
    "|26.|UH\t|Interjection|\n",
    "|27.|VB\t|Verb, base form|\n",
    "|28.|VBD|Verb, past tense|\n",
    "|29.|VBG|Verb, gerund or present participle|\n",
    "|30.|VBN|Verb, past participle|\n",
    "|31.|VBP|Verb, non-3rd person singular present|\n",
    "|32.|VBZ|Verb, 3rd person singular present|\n",
    "|33.|WDT|Wh-determiner|\n",
    "|34.|WP\t|Wh-pronoun|\n",
    "|35.|WP$|Possessive wh-pronoun|\n",
    "|36.|WRB|Wh-adverb|"
   ]
  },
  {
   "cell_type": "markdown",
   "metadata": {},
   "source": [
    "## 한국어 Code"
   ]
  },
  {
   "cell_type": "markdown",
   "metadata": {},
   "source": [
    "한국어의 경우 KoNLPy를 활용하여 토큰화가 가능합니다. KoNLPy에서 제공하는 형태소 분석기는 다음과 같습니다.\n",
    "\n",
    "- Okt (Open Korea Text)\n",
    "- 매캡 (Mecab)\n",
    "- 코모란 (Komoran)\n",
    "- 꼬꼬마 (Kkma)\n",
    "- 한나눔 (Hannanum)"
   ]
  },
  {
   "cell_type": "markdown",
   "metadata": {},
   "source": [
    "**Okt**\n",
    "\n",
    "- `morphs` : 형태소 분석\n",
    "- `pos` : 품사 태깅 (Part-of-speech tagging)\n",
    "- `nouns` : 명사 추출"
   ]
  },
  {
   "cell_type": "code",
   "execution_count": 3,
   "metadata": {},
   "outputs": [],
   "source": [
    "from konlpy.tag import Okt\n",
    "text = \"열심히 코딩한 당신, 연휴에는 여행을 가봐요\"\n",
    "okt = Okt()"
   ]
  },
  {
   "cell_type": "code",
   "execution_count": 4,
   "metadata": {},
   "outputs": [
    {
     "name": "stdout",
     "output_type": "stream",
     "text": [
      "['열심히', '코딩', '한', '당신', ',', '연휴', '에는', '여행', '을', '가봐요']\n"
     ]
    }
   ],
   "source": [
    "# 형태소 분석 결과 출력\n",
    "print(okt.morphs(text))"
   ]
  },
  {
   "cell_type": "code",
   "execution_count": 5,
   "metadata": {},
   "outputs": [
    {
     "name": "stdout",
     "output_type": "stream",
     "text": [
      "[('열심히', 'Adverb'), ('코딩', 'Noun'), ('한', 'Josa'), ('당신', 'Noun'), (',', 'Punctuation'), ('연휴', 'Noun'), ('에는', 'Josa'), ('여행', 'Noun'), ('을', 'Josa'), ('가봐요', 'Verb')]\n"
     ]
    }
   ],
   "source": [
    "# 품사 태깅 결과 출력\n",
    "print(okt.pos(text))"
   ]
  },
  {
   "cell_type": "code",
   "execution_count": 6,
   "metadata": {},
   "outputs": [
    {
     "name": "stdout",
     "output_type": "stream",
     "text": [
      "['코딩', '당신', '연휴', '여행']\n"
     ]
    }
   ],
   "source": [
    "# 명사만 출력\n",
    "print(okt.nouns(text))"
   ]
  },
  {
   "cell_type": "markdown",
   "metadata": {},
   "source": [
    "**꼬꼬마**\n",
    "\n",
    "- `morphs` : 형태소 분석\n",
    "- `pos` : 품사 태깅 (Part-of-speech tagging)\n",
    "- `nouns` : 명사 추출"
   ]
  },
  {
   "cell_type": "code",
   "execution_count": 7,
   "metadata": {},
   "outputs": [],
   "source": [
    "from konlpy.tag import Kkma\n",
    "text = \"열심히 코딩한 당신, 연휴에는 여행을 가봐요\"\n",
    "kkma = Kkma()"
   ]
  },
  {
   "cell_type": "code",
   "execution_count": 8,
   "metadata": {},
   "outputs": [
    {
     "name": "stdout",
     "output_type": "stream",
     "text": [
      "['열심히', '코딩', '하', 'ㄴ', '당신', ',', '연휴', '에', '는', '여행', '을', '가보', '아요']\n"
     ]
    }
   ],
   "source": [
    "print(kkma.morphs(text))"
   ]
  },
  {
   "cell_type": "code",
   "execution_count": 9,
   "metadata": {},
   "outputs": [
    {
     "name": "stdout",
     "output_type": "stream",
     "text": [
      "[('열심히', 'MAG'), ('코딩', 'NNG'), ('하', 'XSV'), ('ㄴ', 'ETD'), ('당신', 'NP'), (',', 'SP'), ('연휴', 'NNG'), ('에', 'JKM'), ('는', 'JX'), ('여행', 'NNG'), ('을', 'JKO'), ('가보', 'VV'), ('아요', 'EFN')]\n"
     ]
    }
   ],
   "source": [
    "print(kkma.pos(text))"
   ]
  },
  {
   "cell_type": "code",
   "execution_count": 10,
   "metadata": {},
   "outputs": [
    {
     "name": "stdout",
     "output_type": "stream",
     "text": [
      "['코딩', '당신', '연휴', '여행']\n"
     ]
    }
   ],
   "source": [
    "print(kkma.nouns(text))"
   ]
  },
  {
   "cell_type": "markdown",
   "metadata": {},
   "source": [
    "\n",
    "**세종 품사 태그**\n",
    "\n",
    "|대분류|태그|설명|\n",
    "|----|---|---|\n",
    "|체언|NNG|일반 명사|\n",
    "|체언|NNP|고유 명사|\n",
    "|체언|NNB|의존 명사|\n",
    "|체언|NR |수사|\n",
    "|체언|NP |대명사|\n",
    "|용언|VV |동사|\n",
    "|용언|VA |형용사|\n",
    "|용언|VX |보조 용언|\n",
    "|용언|VCP|긍정 지정사|\n",
    "|용언|VCN|부정 지정사|\n",
    "|관형사|MM|관형사|\n",
    "|부사|MAG|일반 부사|\n",
    "|부사|MAJ|접속 부사|\n",
    "|감탄사|IC|감탄사|\n",
    "|조사|JKS|주격 조사|\n",
    "|조사|JKC|보격 조사|\n",
    "|조사|JKG|관형격 조사|\n",
    "|조사|JKO|목적격 조사|\n",
    "|조사|JKB|부사격 조사|\n",
    "|조사|JKV|호격 조사|\n",
    "|조사|JKQ|인용격 조사|\n",
    "|조사|JX |보조사|\n",
    "|조사|JC |접속 조사|\n",
    "|선어말 어미|EP|선어말 어미|\n",
    "|어말 어미|EF|종결 어미|\n",
    "|어말 어미|EC||연결 어미|\n",
    "|어말 어미|ETN|명사형 전성 어미|\n",
    "|어말 어미|ETM|관형형 전성 어미|\n",
    "|접두사|XPN|체언 접두사|\n",
    "|접미사|XSN|명사 파생 접미사|\n",
    "|접미사|XSV|동사 파생 접미사|\n",
    "|접미사|XSA|형용사 파생 접미사|\n",
    "|어근|XR|어근|\n",
    "|부호|SF|마침표, 물음표, 느낌표|\n",
    "|부호|SP|쉼표, 가운뎃점, 콜론, 빗금|\n",
    "|부호|SS|따옴표, 괄호표, 줄표|\n",
    "|부호|SE|줄임표|\n",
    "|부호|SO|붙임표 (물결, 숨김, 빠짐)|\n",
    "|부호|SW|기타기호 (논리수학기호, 화폐기호)|\n",
    "|분석 불능|NF|명사추정범주|\n",
    "|분석 불능|NV|용언추정범주|\n",
    "|분석 불능|NA|분석불능범주|\n",
    "|한글 이외|SL|외국어|\n",
    "|한글 이외|SH|한자|\n",
    "|한글 이외|SN|숫자|"
   ]
  }
 ],
 "metadata": {
  "kernelspec": {
   "display_name": "Python 3",
   "language": "python",
   "name": "python3"
  },
  "language_info": {
   "codemirror_mode": {
    "name": "ipython",
    "version": 3
   },
   "file_extension": ".py",
   "mimetype": "text/x-python",
   "name": "python",
   "nbconvert_exporter": "python",
   "pygments_lexer": "ipython3",
   "version": "3.6.5"
  }
 },
 "nbformat": 4,
 "nbformat_minor": 4
}
