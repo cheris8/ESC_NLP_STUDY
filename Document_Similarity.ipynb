{
 "cells": [
  {
   "cell_type": "markdown",
   "metadata": {},
   "source": [
    "# 문서 유사도 (Document Similarity)"
   ]
  },
  {
   "cell_type": "markdown",
   "metadata": {},
   "source": [
    "credit @ 김채형"
   ]
  },
  {
   "cell_type": "markdown",
   "metadata": {},
   "source": [
    "문서들 간의 유사도를 측정하기 위하여 **유사도 척도**를 사용합니다. 유사도 척도는 크게 **거리 계수**와 **유사 계수**로 구분합니다.\n",
    "\n",
    "- **거리 계수**는 두 문서 $X$, $Y$ 간의 거리를 측정하는 것으로, 유클리드 거리가 대표적입니다.\n",
    "- **유사 계수**는 두 문서 $X$, $Y$ 간의 유사성을 측정하는 것으로, 코사인 계수, 자카드 계수 등이 대표적입니다."
   ]
  },
  {
   "cell_type": "markdown",
   "metadata": {},
   "source": [
    "## 1. 유클리드 거리 (Euclidean distance)"
   ]
  },
  {
   "cell_type": "markdown",
   "metadata": {},
   "source": [
    "다차원 공간에서 두개의 점 $p$와 $q$가 각각 $p = \\left( p_1, p_2, p_3, ..., p_n \\right)$과 $q = \\left( q_1, q_2, q_3, ..., q_n \\right)$의 좌표를 가질 때 두 점 사이의 거리를 계산하는 유클리드 거리 공식은 다음과 같습니다.\n",
    "\n",
    "$$ \\sqrt{\\left( q_1 - p_1 \\right) ^2 + \\left( q_2 - p_2 \\right) ^2 + \\cdots \\left( q_n - p_n \\right) ^2} = \\sqrt{\\sum_{i=1}^n \\left( q_i - p_i \\right) ^2} $$\n",
    "\n",
    "문서 간의 유사성을 나타내는 유사 계수와는 달리, 유클리드 거리는 문서 간의 거리를 나타내는 거리 계수입니다. 따라서 유클리드 거리의 값이 작을수록 문서 간의 유사도는 높은 반면 유클리드 거리의 값이 클수록 문서 간의 유사도는 낮습니다.\n",
    "\n",
    "유클리드 거리를 사용하여 여러 문서들 간의 유사도를 구한다는 것은 $n$차원 공간($n$: 단어 전체 개수)에 문서들을 배치하는 것을 의미합니다.\n",
    "\n",
    "예를 들어 아래와 같은 DTM이 있다고 가정해봅시다.\n",
    "\n",
    "|-|바나나|사과|저는|좋아요|\n",
    "|-|----|---|---|----|\n",
    "|문서1|2|3|0|1|\n",
    "|문서2|1|2|3|1|\n",
    "|문서3|2|1|2|2|\n",
    "\n",
    "이때 아래와 같은 문서Q에 대하여 문서1, 문서2, 문서3 중 가장 유사한 문서를 찾아내고자 합니다.\n",
    "\n",
    "|-|바나나|사과|저는|좋아요|\n",
    "|-|----|---|---|----|\n",
    "|문서Q|1|1|0|1|\n",
    "\n",
    "DTM에서 단어의 개수가 4개이므로, 유클리드 거리를 사용할 때에는 4차원 공간이 될 것입니다. 다시 말해, 4차원 공간에 문서1, 문서2, 문서3을 배치한 후 문서Q 또한 다른 문서들과 마찬가지로 4차원 공간에 배치하여 4차원 공간에서 문서Q와 각각의 문서들과의 유클리드 거리를 계산함으로써 문서 유사도를 구할 수 있습니다.\n",
    "\n",
    "이를 파이썬 코드로 구현해보면 다음과 같습니다."
   ]
  },
  {
   "cell_type": "code",
   "execution_count": 1,
   "metadata": {},
   "outputs": [],
   "source": [
    "import numpy as np"
   ]
  },
  {
   "cell_type": "code",
   "execution_count": 2,
   "metadata": {},
   "outputs": [],
   "source": [
    "# 유클리드 거리를 계산하는 함수\n",
    "def dist(x,y):\n",
    "    return np.sqrt(np.sum((x-y)**2))"
   ]
  },
  {
   "cell_type": "code",
   "execution_count": 3,
   "metadata": {},
   "outputs": [],
   "source": [
    "# document representation\n",
    "doc1 = np.array((2,3,0,1))\n",
    "doc2 = np.array((1,2,3,1))\n",
    "doc3 = np.array((2,1,2,2))\n",
    "docQ = np.array((1,1,0,1))"
   ]
  },
  {
   "cell_type": "code",
   "execution_count": 4,
   "metadata": {},
   "outputs": [
    {
     "name": "stdout",
     "output_type": "stream",
     "text": [
      "2.23606797749979\n",
      "3.1622776601683795\n",
      "2.449489742783178\n"
     ]
    }
   ],
   "source": [
    "# 문서 유사도 출력\n",
    "print(dist(docQ, doc1))\n",
    "print(dist(docQ, doc2))\n",
    "print(dist(docQ, doc3))"
   ]
  },
  {
   "cell_type": "markdown",
   "metadata": {},
   "source": [
    "문서Q와 가장 유사한 문서는 문서1임을 확인할 수 있습니다."
   ]
  },
  {
   "cell_type": "markdown",
   "metadata": {},
   "source": [
    "## 2. 코사인 유사도 (Cosine Similarity)"
   ]
  },
  {
   "cell_type": "markdown",
   "metadata": {},
   "source": [
    "코사인 유사도(Cosine Similarity)는 두 벡터 간의 코사인 각도를 이용하여 구하는 두 벡터의 유사도를 의미합니다. 두 벡터 $A, B$에 대한 코사인 유사도는 다음과 같습니다.\n",
    "\n",
    "$$ similarity = \\cos \\left( \\Theta \\right) = \\frac{A \\centerdot B}{\\lVert A \\rVert \\lVert B \\rVert} = \\frac{\\sum_{i=1}^n A_i \\times B_i}{\\sqrt{\\sum_{i=1}^n \\left( A_i \\right) ^2} \\sqrt{\\sum_{i=1}^n \\left( B_i \\right) ^2}} $$\n",
    "\n",
    "코사인 유사도는 -1 이상 1 이하의 값을 갖습니다. 이때 코사인 유사도 값이 1에 가까울수록 유사도가 높다고 판단하고, 코사인 유사도 값이 -1에 가까울수록 유사도가 낮다고 판단합니다.\n",
    "\n",
    "직관적으로, 코사인 유사도는 두 벡터가 가리키는 방향이 얼마나 유사한지를 의미합니다.\n",
    "\n",
    "![](./img/코사인유사도.png)\n",
    "\n",
    "- 두 벡터가 $0^\\circ$의 각을 이루면 1을 값으로 갖습니다. (두 벡터가 같은 방향일 경우)\n",
    "- 두 벡터가 $90^\\circ$의 각을 이루면 0을 값으로 갖습니다.\n",
    "- 두 벡터가 $180^\\circ$의 각을 이루면 -1의 값을 갖습니다. (두 벡터가 반대 방향일 경우)\n",
    "\n",
    "DTM 혹은 TF-IDF 행렬을 바탕으로 문서 유사도를 구하는 경우, DTM 혹은 TF-IDF 행렬이 각각의 특징 벡터 $A, B$가 됩니다. 아래와 같이 세 문서가 있다고 가정해봅시다.\n",
    "\n",
    "문서1 : 저는 사과 좋아요  \n",
    "문서2 : 저는 바나나 좋아요  \n",
    "문서3 : 저는 바나나 좋아요 저는 바나나 좋아요  \n",
    "\n",
    "세 문서에 대해서 DTM을 만들면 아래와 같습니다.\n",
    "\n",
    "|-|바나나|사과|저는|좋아요|\n",
    "|-|----|---|---|----|\n",
    "|문서1|0|1|1|1|\n",
    "|문서2|1|0|1|1|\n",
    "|문서3|2|0|2|2|\n",
    "\n",
    "파이썬에는 코사인 유사도를 구하는 여러가지 방법이 있습니다. 이번에는 `numpy` 패키지를 사용하여 코사인 유사도를 계산하는 코드를 구현해보겠습니다."
   ]
  },
  {
   "cell_type": "code",
   "execution_count": 5,
   "metadata": {},
   "outputs": [],
   "source": [
    "import numpy as np\n",
    "from numpy import dot\n",
    "from numpy.linalg import norm"
   ]
  },
  {
   "cell_type": "code",
   "execution_count": 6,
   "metadata": {},
   "outputs": [],
   "source": [
    "# 코사인 유사도를 계산하는 함수\n",
    "def cos_sim(A, B):\n",
    "    return dot(A, B)/(norm(A)*norm(B))"
   ]
  },
  {
   "cell_type": "code",
   "execution_count": 7,
   "metadata": {},
   "outputs": [],
   "source": [
    "# document representation\n",
    "doc1 = np.array([0,1,1,1])\n",
    "doc2 = np.array([1,0,1,1])\n",
    "doc3 = np.array([2,0,2,2])"
   ]
  },
  {
   "cell_type": "code",
   "execution_count": 8,
   "metadata": {},
   "outputs": [
    {
     "name": "stdout",
     "output_type": "stream",
     "text": [
      "0.6666666666666667\n",
      "0.6666666666666667\n",
      "1.0000000000000002\n"
     ]
    }
   ],
   "source": [
    "# 문서 유사도 출력\n",
    "print(cos_sim(doc1, doc2)) #문서1과 문서2의 코사인 유사도\n",
    "print(cos_sim(doc1, doc3)) #문서1과 문서3의 코사인 유사도\n",
    "print(cos_sim(doc2, doc3)) #문서2과 문서3의 코사인 유사도"
   ]
  },
  {
   "cell_type": "markdown",
   "metadata": {},
   "source": [
    "주목해야 할 점은 문서2와 문서3의 코사인 유사도 값이 1이라는 점입니다. 앞서 언급했듯이, 코사인 유사도가 1을 값으로 갖는다는 것은 두 벡터의 방향이 완전히 동일하다는 것을 의미합니다. DTM을 살펴보면, 문서3은 문서2에서 모든 단어의 빈도 수가 1씩 증가한 것임을 볼 수 있습니다. 다시 말해 특정 문서 내의 모든 단어의 빈도 수가 동일하게 증가한 문서의 경우에는 해당 문서와의 코사인 유사도의 값이 1이라는 것입니다. **이는 코사인 유사도가 벡터의 크기가 아니라 벡터의 방향(패턴)에 초점을 둔다는 점에 기인합니다.** 코사인 유사도를 사용하지 않고 문서 A와의 유사도를 구한다고 가정해봅시다. 다른 문서들이 거의 동일한 패턴을 가지는 문서임에도 불구하고, 문서 B가 단지 다른 문서들보다 원문 길이가 긴 문서라는 이유로 유사도가 더 높게 나올 수 있습니다. **결론적으로 코사인 유사도는 각 문서들의 길이가 다른 상황에서 비교적 공정한 비교를 할 수 있도록 도와줍니다.**"
   ]
  },
  {
   "cell_type": "markdown",
   "metadata": {},
   "source": [
    "## 3. 자카드 유사도(Jaccard similarity)"
   ]
  },
  {
   "cell_type": "markdown",
   "metadata": {},
   "source": [
    "자카드 유사도(Jaccard similarity)는 두 집합 A와 B가 있다고 할 때 합집합에서의 교집합의 비율을 의미합니다. 두 집합이 동일할 때 1의 값을 갖고 두 집합이 공통으로 갖는 원소가 없을 때 0의 값을 갖습니다.\n",
    "\n",
    "자카드 유사도를 구하는 함수를 $J$라고 할 때, 자카드 유사도 함수 $J$는 다음과 같습니다.\n",
    "\n",
    "$$ J \\left( A, B \\right) = \\frac{\\left\\vert A \\cap B \\right\\vert}{\\left\\vert A \\cup B \\right\\vert} = \\frac{\\left\\vert A \\cap B \\right\\vert}{\\left\\vert A \\right\\vert + \\left\\vert B \\right\\vert - \\left\\vert A \\cap B \\right\\vert} $$\n",
    "\n",
    "두 문서 ${doc}_1$와 ${doc}_2$가 있다고 할 때, ${doc}_1$와 ${doc}_2$의 문서 유사도를 구하기 위한 자카드 유사도는 다음과 같습니다.\n",
    "\n",
    "$$ J \\left( {doc}_1, {doc}_2 \\right) = \\frac{{doc}_1 \\cap {doc}_2}{{doc}_1 \\cup {doc}_2} $$\n",
    "\n",
    "즉, 두 문서 ${doc}_1$, ${doc}_2$ 사이의 자카드 유사도 $J \\left( {doc}_1, {doc}_2 \\right)$는 두 집합의 교집합 크기를 두 집합의 합집합 크기로 나눈 값으로 정의됩니다. \n",
    "\n",
    "파이썬 코드를 통해 간단하게 이해해보도록 하겠습니다."
   ]
  },
  {
   "cell_type": "code",
   "execution_count": 9,
   "metadata": {},
   "outputs": [],
   "source": [
    "doc1 = \"apple banana everyone like likey watch card holder\"\n",
    "doc2 = \"apple banana coupon passport love you\""
   ]
  },
  {
   "cell_type": "code",
   "execution_count": 10,
   "metadata": {},
   "outputs": [],
   "source": [
    "# tokenization\n",
    "tokenized_doc1 = doc1.split()\n",
    "tokenized_doc2 = doc2.split()"
   ]
  },
  {
   "cell_type": "code",
   "execution_count": 11,
   "metadata": {},
   "outputs": [
    {
     "name": "stdout",
     "output_type": "stream",
     "text": [
      "['apple', 'banana', 'everyone', 'like', 'likey', 'watch', 'card', 'holder']\n",
      "['apple', 'banana', 'coupon', 'passport', 'love', 'you']\n"
     ]
    }
   ],
   "source": [
    "# tokenization 결과 출력\n",
    "print(tokenized_doc1)\n",
    "print(tokenized_doc2)"
   ]
  },
  {
   "cell_type": "code",
   "execution_count": 12,
   "metadata": {},
   "outputs": [
    {
     "name": "stdout",
     "output_type": "stream",
     "text": [
      "{'apple', 'watch', 'love', 'passport', 'coupon', 'likey', 'you', 'like', 'everyone', 'banana', 'card', 'holder'}\n"
     ]
    }
   ],
   "source": [
    "# 합집합\n",
    "union = set(tokenized_doc1).union(set(tokenized_doc2))\n",
    "print(union)"
   ]
  },
  {
   "cell_type": "code",
   "execution_count": 13,
   "metadata": {},
   "outputs": [
    {
     "name": "stdout",
     "output_type": "stream",
     "text": [
      "{'banana', 'apple'}\n"
     ]
    }
   ],
   "source": [
    "# 교집합\n",
    "intersection = set(tokenized_doc1).intersection(set(tokenized_doc2))\n",
    "print(intersection)"
   ]
  },
  {
   "cell_type": "code",
   "execution_count": 14,
   "metadata": {},
   "outputs": [
    {
     "name": "stdout",
     "output_type": "stream",
     "text": [
      "0.16666666666666666\n"
     ]
    }
   ],
   "source": [
    "# 문서 유사도 출력\n",
    "print(len(intersection)/len(union))"
   ]
  },
  {
   "cell_type": "markdown",
   "metadata": {},
   "source": [
    "이 값은 자카드 유사도이자, 두 문서의 전체 단어 집합에서 두 문서에서 공통적으로 등장한 단어의 비율이기도 합니다."
   ]
  },
  {
   "cell_type": "markdown",
   "metadata": {},
   "source": [
    "## 4. 실습 Code : 유사도를 이용한 추천 시스템 구현하기"
   ]
  },
  {
   "cell_type": "markdown",
   "metadata": {},
   "source": [
    "캐글의 영화 데이터셋을 바탕으로 영화 추천 시스템을 만들어보겠습니다. TF-IDF와 코사인 유사도를 활용하여 영화의 줄거리에 기반하여 영화를 추천하는 추천 시스템을 만들 수 있습니다. 영화 제목을 입력하면, 줄거리가 해당 영화와 유사한 영화를 찾아 추천해줍니다.\n",
    "\n",
    "다운로드 링크 : https://www.kaggle.com/rounakbanik/the-movies-dataset  \n",
    "파일명 : movies_metadata.csv"
   ]
  },
  {
   "cell_type": "code",
   "execution_count": 15,
   "metadata": {},
   "outputs": [
    {
     "name": "stderr",
     "output_type": "stream",
     "text": [
      "/usr/local/var/pyenv/versions/3.6.5/lib/python3.6/site-packages/pandas/compat/__init__.py:120: UserWarning: Could not import the lzma module. Your installed Python is incomplete. Attempting to use lzma compression will result in a RuntimeError.\n",
      "  warnings.warn(msg)\n"
     ]
    }
   ],
   "source": [
    "import pandas as pd"
   ]
  },
  {
   "cell_type": "code",
   "execution_count": 16,
   "metadata": {},
   "outputs": [
    {
     "data": {
      "text/html": [
       "<div>\n",
       "<style scoped>\n",
       "    .dataframe tbody tr th:only-of-type {\n",
       "        vertical-align: middle;\n",
       "    }\n",
       "\n",
       "    .dataframe tbody tr th {\n",
       "        vertical-align: top;\n",
       "    }\n",
       "\n",
       "    .dataframe thead th {\n",
       "        text-align: right;\n",
       "    }\n",
       "</style>\n",
       "<table border=\"1\" class=\"dataframe\">\n",
       "  <thead>\n",
       "    <tr style=\"text-align: right;\">\n",
       "      <th></th>\n",
       "      <th>adult</th>\n",
       "      <th>belongs_to_collection</th>\n",
       "      <th>budget</th>\n",
       "      <th>genres</th>\n",
       "      <th>homepage</th>\n",
       "      <th>id</th>\n",
       "      <th>imdb_id</th>\n",
       "      <th>original_language</th>\n",
       "      <th>original_title</th>\n",
       "      <th>overview</th>\n",
       "      <th>...</th>\n",
       "      <th>release_date</th>\n",
       "      <th>revenue</th>\n",
       "      <th>runtime</th>\n",
       "      <th>spoken_languages</th>\n",
       "      <th>status</th>\n",
       "      <th>tagline</th>\n",
       "      <th>title</th>\n",
       "      <th>video</th>\n",
       "      <th>vote_average</th>\n",
       "      <th>vote_count</th>\n",
       "    </tr>\n",
       "  </thead>\n",
       "  <tbody>\n",
       "    <tr>\n",
       "      <th>0</th>\n",
       "      <td>False</td>\n",
       "      <td>{'id': 10194, 'name': 'Toy Story Collection', ...</td>\n",
       "      <td>30000000</td>\n",
       "      <td>[{'id': 16, 'name': 'Animation'}, {'id': 35, '...</td>\n",
       "      <td>http://toystory.disney.com/toy-story</td>\n",
       "      <td>862</td>\n",
       "      <td>tt0114709</td>\n",
       "      <td>en</td>\n",
       "      <td>Toy Story</td>\n",
       "      <td>Led by Woody, Andy's toys live happily in his ...</td>\n",
       "      <td>...</td>\n",
       "      <td>1995-10-30</td>\n",
       "      <td>373554033.0</td>\n",
       "      <td>81.0</td>\n",
       "      <td>[{'iso_639_1': 'en', 'name': 'English'}]</td>\n",
       "      <td>Released</td>\n",
       "      <td>NaN</td>\n",
       "      <td>Toy Story</td>\n",
       "      <td>False</td>\n",
       "      <td>7.7</td>\n",
       "      <td>5415.0</td>\n",
       "    </tr>\n",
       "    <tr>\n",
       "      <th>1</th>\n",
       "      <td>False</td>\n",
       "      <td>NaN</td>\n",
       "      <td>65000000</td>\n",
       "      <td>[{'id': 12, 'name': 'Adventure'}, {'id': 14, '...</td>\n",
       "      <td>NaN</td>\n",
       "      <td>8844</td>\n",
       "      <td>tt0113497</td>\n",
       "      <td>en</td>\n",
       "      <td>Jumanji</td>\n",
       "      <td>When siblings Judy and Peter discover an encha...</td>\n",
       "      <td>...</td>\n",
       "      <td>1995-12-15</td>\n",
       "      <td>262797249.0</td>\n",
       "      <td>104.0</td>\n",
       "      <td>[{'iso_639_1': 'en', 'name': 'English'}, {'iso...</td>\n",
       "      <td>Released</td>\n",
       "      <td>Roll the dice and unleash the excitement!</td>\n",
       "      <td>Jumanji</td>\n",
       "      <td>False</td>\n",
       "      <td>6.9</td>\n",
       "      <td>2413.0</td>\n",
       "    </tr>\n",
       "    <tr>\n",
       "      <th>2</th>\n",
       "      <td>False</td>\n",
       "      <td>{'id': 119050, 'name': 'Grumpy Old Men Collect...</td>\n",
       "      <td>0</td>\n",
       "      <td>[{'id': 10749, 'name': 'Romance'}, {'id': 35, ...</td>\n",
       "      <td>NaN</td>\n",
       "      <td>15602</td>\n",
       "      <td>tt0113228</td>\n",
       "      <td>en</td>\n",
       "      <td>Grumpier Old Men</td>\n",
       "      <td>A family wedding reignites the ancient feud be...</td>\n",
       "      <td>...</td>\n",
       "      <td>1995-12-22</td>\n",
       "      <td>0.0</td>\n",
       "      <td>101.0</td>\n",
       "      <td>[{'iso_639_1': 'en', 'name': 'English'}]</td>\n",
       "      <td>Released</td>\n",
       "      <td>Still Yelling. Still Fighting. Still Ready for...</td>\n",
       "      <td>Grumpier Old Men</td>\n",
       "      <td>False</td>\n",
       "      <td>6.5</td>\n",
       "      <td>92.0</td>\n",
       "    </tr>\n",
       "    <tr>\n",
       "      <th>3</th>\n",
       "      <td>False</td>\n",
       "      <td>NaN</td>\n",
       "      <td>16000000</td>\n",
       "      <td>[{'id': 35, 'name': 'Comedy'}, {'id': 18, 'nam...</td>\n",
       "      <td>NaN</td>\n",
       "      <td>31357</td>\n",
       "      <td>tt0114885</td>\n",
       "      <td>en</td>\n",
       "      <td>Waiting to Exhale</td>\n",
       "      <td>Cheated on, mistreated and stepped on, the wom...</td>\n",
       "      <td>...</td>\n",
       "      <td>1995-12-22</td>\n",
       "      <td>81452156.0</td>\n",
       "      <td>127.0</td>\n",
       "      <td>[{'iso_639_1': 'en', 'name': 'English'}]</td>\n",
       "      <td>Released</td>\n",
       "      <td>Friends are the people who let you be yourself...</td>\n",
       "      <td>Waiting to Exhale</td>\n",
       "      <td>False</td>\n",
       "      <td>6.1</td>\n",
       "      <td>34.0</td>\n",
       "    </tr>\n",
       "    <tr>\n",
       "      <th>4</th>\n",
       "      <td>False</td>\n",
       "      <td>{'id': 96871, 'name': 'Father of the Bride Col...</td>\n",
       "      <td>0</td>\n",
       "      <td>[{'id': 35, 'name': 'Comedy'}]</td>\n",
       "      <td>NaN</td>\n",
       "      <td>11862</td>\n",
       "      <td>tt0113041</td>\n",
       "      <td>en</td>\n",
       "      <td>Father of the Bride Part II</td>\n",
       "      <td>Just when George Banks has recovered from his ...</td>\n",
       "      <td>...</td>\n",
       "      <td>1995-02-10</td>\n",
       "      <td>76578911.0</td>\n",
       "      <td>106.0</td>\n",
       "      <td>[{'iso_639_1': 'en', 'name': 'English'}]</td>\n",
       "      <td>Released</td>\n",
       "      <td>Just When His World Is Back To Normal... He's ...</td>\n",
       "      <td>Father of the Bride Part II</td>\n",
       "      <td>False</td>\n",
       "      <td>5.7</td>\n",
       "      <td>173.0</td>\n",
       "    </tr>\n",
       "  </tbody>\n",
       "</table>\n",
       "<p>5 rows × 24 columns</p>\n",
       "</div>"
      ],
      "text/plain": [
       "   adult                              belongs_to_collection    budget  \\\n",
       "0  False  {'id': 10194, 'name': 'Toy Story Collection', ...  30000000   \n",
       "1  False                                                NaN  65000000   \n",
       "2  False  {'id': 119050, 'name': 'Grumpy Old Men Collect...         0   \n",
       "3  False                                                NaN  16000000   \n",
       "4  False  {'id': 96871, 'name': 'Father of the Bride Col...         0   \n",
       "\n",
       "                                              genres  \\\n",
       "0  [{'id': 16, 'name': 'Animation'}, {'id': 35, '...   \n",
       "1  [{'id': 12, 'name': 'Adventure'}, {'id': 14, '...   \n",
       "2  [{'id': 10749, 'name': 'Romance'}, {'id': 35, ...   \n",
       "3  [{'id': 35, 'name': 'Comedy'}, {'id': 18, 'nam...   \n",
       "4                     [{'id': 35, 'name': 'Comedy'}]   \n",
       "\n",
       "                               homepage     id    imdb_id original_language  \\\n",
       "0  http://toystory.disney.com/toy-story    862  tt0114709                en   \n",
       "1                                   NaN   8844  tt0113497                en   \n",
       "2                                   NaN  15602  tt0113228                en   \n",
       "3                                   NaN  31357  tt0114885                en   \n",
       "4                                   NaN  11862  tt0113041                en   \n",
       "\n",
       "                original_title  \\\n",
       "0                    Toy Story   \n",
       "1                      Jumanji   \n",
       "2             Grumpier Old Men   \n",
       "3            Waiting to Exhale   \n",
       "4  Father of the Bride Part II   \n",
       "\n",
       "                                            overview  ... release_date  \\\n",
       "0  Led by Woody, Andy's toys live happily in his ...  ...   1995-10-30   \n",
       "1  When siblings Judy and Peter discover an encha...  ...   1995-12-15   \n",
       "2  A family wedding reignites the ancient feud be...  ...   1995-12-22   \n",
       "3  Cheated on, mistreated and stepped on, the wom...  ...   1995-12-22   \n",
       "4  Just when George Banks has recovered from his ...  ...   1995-02-10   \n",
       "\n",
       "       revenue runtime                                   spoken_languages  \\\n",
       "0  373554033.0    81.0           [{'iso_639_1': 'en', 'name': 'English'}]   \n",
       "1  262797249.0   104.0  [{'iso_639_1': 'en', 'name': 'English'}, {'iso...   \n",
       "2          0.0   101.0           [{'iso_639_1': 'en', 'name': 'English'}]   \n",
       "3   81452156.0   127.0           [{'iso_639_1': 'en', 'name': 'English'}]   \n",
       "4   76578911.0   106.0           [{'iso_639_1': 'en', 'name': 'English'}]   \n",
       "\n",
       "     status                                            tagline  \\\n",
       "0  Released                                                NaN   \n",
       "1  Released          Roll the dice and unleash the excitement!   \n",
       "2  Released  Still Yelling. Still Fighting. Still Ready for...   \n",
       "3  Released  Friends are the people who let you be yourself...   \n",
       "4  Released  Just When His World Is Back To Normal... He's ...   \n",
       "\n",
       "                         title  video vote_average vote_count  \n",
       "0                    Toy Story  False          7.7     5415.0  \n",
       "1                      Jumanji  False          6.9     2413.0  \n",
       "2             Grumpier Old Men  False          6.5       92.0  \n",
       "3            Waiting to Exhale  False          6.1       34.0  \n",
       "4  Father of the Bride Part II  False          5.7      173.0  \n",
       "\n",
       "[5 rows x 24 columns]"
      ]
     },
     "execution_count": 16,
     "metadata": {},
     "output_type": "execute_result"
    }
   ],
   "source": [
    "# 데이터 불러오기\n",
    "data = pd.read_csv('./data/movies_metadata.csv', low_memory=False)\n",
    "data.head()"
   ]
  },
  {
   "cell_type": "markdown",
   "metadata": {},
   "source": [
    "위 데이터셋 중 영화 제목에 영화 제목에 해당하는 title 열과 영화 줄거리에 해당하는 overview 열을 사용합니다."
   ]
  },
  {
   "cell_type": "code",
   "execution_count": 17,
   "metadata": {},
   "outputs": [],
   "source": [
    "data = data.head(20000)"
   ]
  },
  {
   "cell_type": "code",
   "execution_count": 18,
   "metadata": {},
   "outputs": [
    {
     "data": {
      "text/plain": [
       "135"
      ]
     },
     "execution_count": 18,
     "metadata": {},
     "output_type": "execute_result"
    }
   ],
   "source": [
    "# NA 확인 (TF-IDF 계산할 때 NA 없어야 함)\n",
    "data['overview'].isnull().sum()"
   ]
  },
  {
   "cell_type": "code",
   "execution_count": 19,
   "metadata": {},
   "outputs": [],
   "source": [
    "# NA imputation\n",
    "data['overview'] = data['overview'].fillna('')"
   ]
  },
  {
   "cell_type": "code",
   "execution_count": 20,
   "metadata": {},
   "outputs": [
    {
     "data": {
      "text/plain": [
       "0"
      ]
     },
     "execution_count": 20,
     "metadata": {},
     "output_type": "execute_result"
    }
   ],
   "source": [
    "# NA 확인\n",
    "data['overview'].isnull().sum()"
   ]
  },
  {
   "cell_type": "code",
   "execution_count": 21,
   "metadata": {},
   "outputs": [
    {
     "name": "stdout",
     "output_type": "stream",
     "text": [
      "(20000, 47487)\n"
     ]
    }
   ],
   "source": [
    "# tf-idf 수행\n",
    "from sklearn.feature_extraction.text import TfidfVectorizer\n",
    "tfidf = TfidfVectorizer(stop_words='english') # tf-idf 선언\n",
    "tfidf_matrix = tfidf.fit_transform(data['overview']) # tf-idf 적합\n",
    "print(tfidf_matrix.shape)"
   ]
  },
  {
   "cell_type": "markdown",
   "metadata": {},
   "source": [
    "`tfidf_matrix`가 20000개의 문서(즉 영화)와 47487개의 단어로 이루어진 DTM임을 볼 수 있습니다."
   ]
  },
  {
   "cell_type": "code",
   "execution_count": 22,
   "metadata": {},
   "outputs": [
    {
     "name": "stdout",
     "output_type": "stream",
     "text": [
      "(20000, 20000)\n"
     ]
    }
   ],
   "source": [
    "# 코사인 유사도\n",
    "from sklearn.metrics.pairwise import linear_kernel\n",
    "cosine_sim = linear_kernel(tfidf_matrix, tfidf_matrix)\n",
    "print(cosine_sim.shape)"
   ]
  },
  {
   "cell_type": "markdown",
   "metadata": {},
   "source": [
    "영화 제목을 입력하면 인덱스를 반환할 수 있도록 영화 제목과 인덱스를 갖는 테이블을 생성합니다."
   ]
  },
  {
   "cell_type": "code",
   "execution_count": 23,
   "metadata": {
    "scrolled": true
   },
   "outputs": [
    {
     "name": "stdout",
     "output_type": "stream",
     "text": [
      "title\n",
      "Toy Story                                                                       0\n",
      "Jumanji                                                                         1\n",
      "Grumpier Old Men                                                                2\n",
      "Waiting to Exhale                                                               3\n",
      "Father of the Bride Part II                                                     4\n",
      "                                                                            ...  \n",
      "Rebellion                                                                   19995\n",
      "Versailles                                                                  19996\n",
      "Two in the Wave                                                             19997\n",
      "Lotte Reiniger: Homage to the Inventor of the Silhouette Film               19998\n",
      "RKO Production 601: The Making of 'Kong, the Eighth Wonder of the World'    19999\n",
      "Length: 20000, dtype: int64\n"
     ]
    }
   ],
   "source": [
    "# 테이블 생성\n",
    "indices = pd.Series(data.index, index=data['title']).drop_duplicates()\n",
    "print(indices)"
   ]
  },
  {
   "cell_type": "code",
   "execution_count": 24,
   "metadata": {},
   "outputs": [
    {
     "name": "stdout",
     "output_type": "stream",
     "text": [
      "4\n"
     ]
    }
   ],
   "source": [
    "# 확인\n",
    "idx = indices['Father of the Bride Part II']\n",
    "print(idx)"
   ]
  },
  {
   "cell_type": "code",
   "execution_count": 25,
   "metadata": {},
   "outputs": [],
   "source": [
    "# overview를 바탕으로 가장 유사도가 높은 상위 10개 영화를 추천하는 함수 선언\n",
    "def get_recommendations(title, cosine_sim=cosine_sim):\n",
    "    \n",
    "    # 해당 영화 제목에 대응되는 인덱스를 저장\n",
    "    idx = indices[title]\n",
    "\n",
    "    # 모든 영화에 대하여 해당 영화와의 유사도를 계산\n",
    "    sim_scores = list(enumerate(cosine_sim[idx])) # (인덱스, 유사도) 를 원소로 갖는 리스트\n",
    "\n",
    "    # 유사도를 기준으로 정렬\n",
    "    sim_scores = sorted(sim_scores, key=lambda x: x[1], reverse=True) \n",
    "\n",
    "    # 유사도 기준 상위 10개 영화 선택 \n",
    "    sim_scores = sim_scores[1:11] # (인덱스, 유사도) 를 원소로 갖는 리스트\n",
    "\n",
    "    # 상위 10개 영화 인덱스를 저장\n",
    "    movie_indices = [i[0] for i in sim_scores]\n",
    "\n",
    "    # 가장 유사도가 높은 상위 10개의 영화 제목을 반환\n",
    "    return data['title'].iloc[movie_indices]"
   ]
  },
  {
   "cell_type": "markdown",
   "metadata": {},
   "source": [
    "영화 'The Dark Knight Rises'와 줄거리가 유사한 영화들을 찾아보겠습니다."
   ]
  },
  {
   "cell_type": "code",
   "execution_count": 26,
   "metadata": {},
   "outputs": [
    {
     "data": {
      "text/plain": [
       "12481                            The Dark Knight\n",
       "150                               Batman Forever\n",
       "1328                              Batman Returns\n",
       "15511                 Batman: Under the Red Hood\n",
       "585                                       Batman\n",
       "9230          Batman Beyond: Return of the Joker\n",
       "18035                           Batman: Year One\n",
       "19792    Batman: The Dark Knight Returns, Part 1\n",
       "3095                Batman: Mask of the Phantasm\n",
       "10122                              Batman Begins\n",
       "Name: title, dtype: object"
      ]
     },
     "execution_count": 26,
     "metadata": {},
     "output_type": "execute_result"
    }
   ],
   "source": [
    "get_recommendations('The Dark Knight Rises')"
   ]
  },
  {
   "cell_type": "markdown",
   "metadata": {},
   "source": [
    "영화 'The Dark Knight Rises'와 줄거리가 가장 유사한 영화는 영화 'The Dark Knight'입니다. 이외에 추천받은 영화들 모두 배트맨 영화임을 볼 수 있습니다."
   ]
  }
 ],
 "metadata": {
  "kernelspec": {
   "display_name": "Python 3",
   "language": "python",
   "name": "python3"
  },
  "language_info": {
   "codemirror_mode": {
    "name": "ipython",
    "version": 3
   },
   "file_extension": ".py",
   "mimetype": "text/x-python",
   "name": "python",
   "nbconvert_exporter": "python",
   "pygments_lexer": "ipython3",
   "version": "3.6.5"
  }
 },
 "nbformat": 4,
 "nbformat_minor": 4
}
