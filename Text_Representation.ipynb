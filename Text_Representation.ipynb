{
 "cells": [
  {
   "cell_type": "markdown",
   "metadata": {},
   "source": [
    "# 텍스트 표현 (Text Representation)"
   ]
  },
  {
   "cell_type": "markdown",
   "metadata": {},
   "source": [
    "자연어 처리에는 텍스트를 표현하는 여러가지 방법들이 있습니다. 특히 컴퓨터가 이해할 수 있도록 문자를 숫자로 바꾸는 방법들이 존재합니다. 이러한 단어 표현 방법들에 대해서 알아보고자 합니다."
   ]
  },
  {
   "cell_type": "markdown",
   "metadata": {},
   "source": [
    "## 1. 단어 표현 (Word Representation) 방법"
   ]
  },
  {
   "cell_type": "markdown",
   "metadata": {},
   "source": [
    "단어 표현 방법에는 크게 **국소 표현(Local Representation)** 방법과 **분산 표현(Distributed Representation)** 방법이 있습니다. \n",
    "\n",
    "**국소 표현(Local Representation)** 방법은 어떤 단어를 표현하고자 할 때 해당 단어 그 자체만을 보고 단어를 표현하는 방법입니다. 해당 단어에 특정 값을 매핑합니다. 국소 표현 방법은 **이산 표현(Discrete Representation)** 이라고도 합니다. **분산 표현(Distributed Representation)** 방법은 어떤 단어를 표현하고자 할 때 해당 단어의 주변을 참고하여 단어를 표현하는 방법입니다. 분산 표현 방법은 **연속 표현(Continuous Represnetation)** 이라고도 합니다. **국소 표현 방법은 단어의 의미나 뉘앙스를 표현할 수 없지만, 분산 표현 방법은 이를 표현할 수 있다는 점에서 차이가 있습니다.**\n",
    "\n",
    "예를 들어, puppy, cute, lovely라는 세개의 단어가 있다고 가정해봅시다. 만약 각 단어에 1번, 2번, 3번 등과 같이 숫자를 매핑하여 값으로 부여한다면,  이는 국소 표현 방법에 해당됩니다. 만약 puppy라는 단어 근처에는 주로 cute, lovely이라는 단어가 자주 등장하므로 puppy라는 단어는 cute, lovely한 느낌이다 로 단어를 표현한다면, 이는 분산 표현 방법에 해당됩니다."
   ]
  },
  {
   "cell_type": "markdown",
   "metadata": {},
   "source": [
    "## 2. 단어 표현 (Word Representation) 방법 분류"
   ]
  },
  {
   "cell_type": "markdown",
   "metadata": {},
   "source": [
    "![](./img/wordrepresentation.PNG)\n",
    "\n",
    "**Local Representation**\n",
    "\n",
    "- One-Hot Vector : Local Representation\n",
    "- N-gram : Local Representation\n",
    "\n",
    "\n",
    "- BoW : Local Representation, Count based\n",
    "- DTM : Local Representation, Count based\n",
    "\n",
    "**Continuous Representation**\n",
    "\n",
    "- LSA : Continuous Representation, Count based\n",
    "\n",
    "\n",
    "- Embedding Vector : Continuous Representation\n",
    "\n",
    "    - Word2Vec : Continuous Representation, Prediction based\n",
    "    - FastText : Continuous Representation, Prediction based\n",
    "    - GloVe : Continuous Representation, Count based + Prediction based"
   ]
  }
 ],
 "metadata": {
  "kernelspec": {
   "display_name": "Python 3",
   "language": "python",
   "name": "python3"
  },
  "language_info": {
   "codemirror_mode": {
    "name": "ipython",
    "version": 3
   },
   "file_extension": ".py",
   "mimetype": "text/x-python",
   "name": "python",
   "nbconvert_exporter": "python",
   "pygments_lexer": "ipython3",
   "version": "3.6.5"
  }
 },
 "nbformat": 4,
 "nbformat_minor": 4
}
